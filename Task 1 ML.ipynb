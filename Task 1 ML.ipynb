{
 "cells": [
  {
   "cell_type": "code",
   "execution_count": 3,
   "id": "4b2499e4-4b27-4023-9d26-33ea34abe325",
   "metadata": {},
   "outputs": [
    {
     "name": "stdout",
     "output_type": "stream",
     "text": [
      "Coefficients: [  150.44939429 25615.47479484 20890.97303634]\n",
      "Intercept: -90687.76865964092\n",
      "Mean Squared Error: 238430469.60054886\n",
      "R² Score: 0.988995516787667\n",
      "Predicted price for {'square_feet': 2500, 'bedrooms': 4, 'bathrooms': 3} = $450,570.54\n"
     ]
    }
   ],
   "source": [
    "import pandas as pd\n",
    "from sklearn.model_selection import train_test_split\n",
    "from sklearn.linear_model import LinearRegression\n",
    "from sklearn.metrics import mean_squared_error, r2_score\n",
    "\n",
    "# Load dataset\n",
    "df = pd.read_csv(\"C:/Users/HP/OneDrive/Desktop/python/house_prices.csv\")\n",
    "\n",
    "# Features and target\n",
    "X = df[[\"square_feet\", \"bedrooms\", \"bathrooms\"]]\n",
    "y = df[\"price\"]\n",
    "\n",
    "# Split data\n",
    "X_train, X_test, y_train, y_test = train_test_split(X, y, test_size=0.2, random_state=42)\n",
    "\n",
    "# Train model\n",
    "model = LinearRegression()\n",
    "model.fit(X_train, y_train)\n",
    "\n",
    "# Predictions\n",
    "y_pred = model.predict(X_test)\n",
    "\n",
    "# Model evaluation\n",
    "print(\"Coefficients:\", model.coef_)\n",
    "print(\"Intercept:\", model.intercept_)\n",
    "print(\"Mean Squared Error:\", mean_squared_error(y_test, y_pred))\n",
    "print(\"R² Score:\", r2_score(y_test, y_pred))\n",
    "\n",
    "# Example prediction\n",
    "example = pd.DataFrame({\"square_feet\":[2500], \"bedrooms\":[4], \"bathrooms\":[3]})\n",
    "predicted_price = model.predict(example)[0]\n",
    "print(f\"Predicted price for {example.iloc[0].to_dict()} = ${predicted_price:,.2f}\")\n"
   ]
  },
  {
   "cell_type": "code",
   "execution_count": null,
   "id": "f06e498a-a329-44a4-90de-6e112a74157b",
   "metadata": {},
   "outputs": [],
   "source": []
  }
 ],
 "metadata": {
  "kernelspec": {
   "display_name": "Python 3 (ipykernel)",
   "language": "python",
   "name": "python3"
  },
  "language_info": {
   "codemirror_mode": {
    "name": "ipython",
    "version": 3
   },
   "file_extension": ".py",
   "mimetype": "text/x-python",
   "name": "python",
   "nbconvert_exporter": "python",
   "pygments_lexer": "ipython3",
   "version": "3.12.4"
  }
 },
 "nbformat": 4,
 "nbformat_minor": 5
}
